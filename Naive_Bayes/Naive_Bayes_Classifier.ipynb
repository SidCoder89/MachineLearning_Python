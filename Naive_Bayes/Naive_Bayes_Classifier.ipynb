{
 "cells": [
  {
   "cell_type": "markdown",
   "metadata": {},
   "source": [
    "#### Code: https://www.analyticssteps.com/blogs/what-naive-bayes-algorithm-machine-learning\n",
    "Data: https://www.kaggle.com/uciml/pima-indians-diabetes-database"
   ]
  },
  {
   "cell_type": "code",
   "execution_count": 4,
   "metadata": {},
   "outputs": [],
   "source": [
    "import numpy as np\n",
    "import pandas as pd\n",
    "import seaborn as sns\n",
    "sns.set(color_codes = True)\n",
    "import matplotlib.pyplot as plt\n",
    "%matplotlib inline\n",
    "from sklearn.preprocessing import StandardScaler\n",
    "from sklearn.model_selection import train_test_split\n",
    "from sklearn.naive_bayes import GaussianNB, BernoulliNB, MultinomialNB\n",
    "from sklearn import metrics"
   ]
  },
  {
   "cell_type": "code",
   "execution_count": 5,
   "metadata": {},
   "outputs": [],
   "source": [
    "colnames = ['preg', 'plas', 'pres', 'skin', 'test', 'mass', 'pedi', 'age', 'class']"
   ]
  },
  {
   "cell_type": "code",
   "execution_count": 10,
   "metadata": {},
   "outputs": [],
   "source": [
    "pima_df = pd.read_csv(\"Data/diabetes.csv\")\n",
    "pima_df.columns = colnames"
   ]
  },
  {
   "cell_type": "code",
   "execution_count": 14,
   "metadata": {},
   "outputs": [
    {
     "data": {
      "text/html": [
       "<div>\n",
       "<style scoped>\n",
       "    .dataframe tbody tr th:only-of-type {\n",
       "        vertical-align: middle;\n",
       "    }\n",
       "\n",
       "    .dataframe tbody tr th {\n",
       "        vertical-align: top;\n",
       "    }\n",
       "\n",
       "    .dataframe thead th {\n",
       "        text-align: right;\n",
       "    }\n",
       "</style>\n",
       "<table border=\"1\" class=\"dataframe\">\n",
       "  <thead>\n",
       "    <tr style=\"text-align: right;\">\n",
       "      <th></th>\n",
       "      <th>preg</th>\n",
       "      <th>plas</th>\n",
       "      <th>pres</th>\n",
       "      <th>skin</th>\n",
       "      <th>test</th>\n",
       "      <th>mass</th>\n",
       "      <th>pedi</th>\n",
       "      <th>age</th>\n",
       "      <th>class</th>\n",
       "    </tr>\n",
       "  </thead>\n",
       "  <tbody>\n",
       "    <tr>\n",
       "      <th>count</th>\n",
       "      <td>768.000000</td>\n",
       "      <td>768.000000</td>\n",
       "      <td>768.000000</td>\n",
       "      <td>768.000000</td>\n",
       "      <td>768.000000</td>\n",
       "      <td>768.000000</td>\n",
       "      <td>768.000000</td>\n",
       "      <td>768.000000</td>\n",
       "      <td>768.000000</td>\n",
       "    </tr>\n",
       "    <tr>\n",
       "      <th>mean</th>\n",
       "      <td>3.845052</td>\n",
       "      <td>120.894531</td>\n",
       "      <td>69.105469</td>\n",
       "      <td>20.536458</td>\n",
       "      <td>79.799479</td>\n",
       "      <td>31.992578</td>\n",
       "      <td>0.471876</td>\n",
       "      <td>33.240885</td>\n",
       "      <td>0.348958</td>\n",
       "    </tr>\n",
       "    <tr>\n",
       "      <th>std</th>\n",
       "      <td>3.369578</td>\n",
       "      <td>31.972618</td>\n",
       "      <td>19.355807</td>\n",
       "      <td>15.952218</td>\n",
       "      <td>115.244002</td>\n",
       "      <td>7.884160</td>\n",
       "      <td>0.331329</td>\n",
       "      <td>11.760232</td>\n",
       "      <td>0.476951</td>\n",
       "    </tr>\n",
       "    <tr>\n",
       "      <th>min</th>\n",
       "      <td>0.000000</td>\n",
       "      <td>0.000000</td>\n",
       "      <td>0.000000</td>\n",
       "      <td>0.000000</td>\n",
       "      <td>0.000000</td>\n",
       "      <td>0.000000</td>\n",
       "      <td>0.078000</td>\n",
       "      <td>21.000000</td>\n",
       "      <td>0.000000</td>\n",
       "    </tr>\n",
       "    <tr>\n",
       "      <th>25%</th>\n",
       "      <td>1.000000</td>\n",
       "      <td>99.000000</td>\n",
       "      <td>62.000000</td>\n",
       "      <td>0.000000</td>\n",
       "      <td>0.000000</td>\n",
       "      <td>27.300000</td>\n",
       "      <td>0.243750</td>\n",
       "      <td>24.000000</td>\n",
       "      <td>0.000000</td>\n",
       "    </tr>\n",
       "    <tr>\n",
       "      <th>50%</th>\n",
       "      <td>3.000000</td>\n",
       "      <td>117.000000</td>\n",
       "      <td>72.000000</td>\n",
       "      <td>23.000000</td>\n",
       "      <td>30.500000</td>\n",
       "      <td>32.000000</td>\n",
       "      <td>0.372500</td>\n",
       "      <td>29.000000</td>\n",
       "      <td>0.000000</td>\n",
       "    </tr>\n",
       "    <tr>\n",
       "      <th>75%</th>\n",
       "      <td>6.000000</td>\n",
       "      <td>140.250000</td>\n",
       "      <td>80.000000</td>\n",
       "      <td>32.000000</td>\n",
       "      <td>127.250000</td>\n",
       "      <td>36.600000</td>\n",
       "      <td>0.626250</td>\n",
       "      <td>41.000000</td>\n",
       "      <td>1.000000</td>\n",
       "    </tr>\n",
       "    <tr>\n",
       "      <th>max</th>\n",
       "      <td>17.000000</td>\n",
       "      <td>199.000000</td>\n",
       "      <td>122.000000</td>\n",
       "      <td>99.000000</td>\n",
       "      <td>846.000000</td>\n",
       "      <td>67.100000</td>\n",
       "      <td>2.420000</td>\n",
       "      <td>81.000000</td>\n",
       "      <td>1.000000</td>\n",
       "    </tr>\n",
       "  </tbody>\n",
       "</table>\n",
       "</div>"
      ],
      "text/plain": [
       "             preg        plas        pres        skin        test        mass  \\\n",
       "count  768.000000  768.000000  768.000000  768.000000  768.000000  768.000000   \n",
       "mean     3.845052  120.894531   69.105469   20.536458   79.799479   31.992578   \n",
       "std      3.369578   31.972618   19.355807   15.952218  115.244002    7.884160   \n",
       "min      0.000000    0.000000    0.000000    0.000000    0.000000    0.000000   \n",
       "25%      1.000000   99.000000   62.000000    0.000000    0.000000   27.300000   \n",
       "50%      3.000000  117.000000   72.000000   23.000000   30.500000   32.000000   \n",
       "75%      6.000000  140.250000   80.000000   32.000000  127.250000   36.600000   \n",
       "max     17.000000  199.000000  122.000000   99.000000  846.000000   67.100000   \n",
       "\n",
       "             pedi         age       class  \n",
       "count  768.000000  768.000000  768.000000  \n",
       "mean     0.471876   33.240885    0.348958  \n",
       "std      0.331329   11.760232    0.476951  \n",
       "min      0.078000   21.000000    0.000000  \n",
       "25%      0.243750   24.000000    0.000000  \n",
       "50%      0.372500   29.000000    0.000000  \n",
       "75%      0.626250   41.000000    1.000000  \n",
       "max      2.420000   81.000000    1.000000  "
      ]
     },
     "execution_count": 14,
     "metadata": {},
     "output_type": "execute_result"
    }
   ],
   "source": [
    "pima_df.describe()"
   ]
  },
  {
   "cell_type": "code",
   "execution_count": 11,
   "metadata": {},
   "outputs": [],
   "source": [
    "X = pima_df.drop('class', axis=1)\n",
    "y = pima_df['class']"
   ]
  },
  {
   "cell_type": "code",
   "execution_count": 18,
   "metadata": {
    "scrolled": true
   },
   "outputs": [
    {
     "data": {
      "text/plain": [
       "array([846, 744, 680, 600, 579, 545, 543, 540, 510, 495, 495, 485, 480,\n",
       "       480, 478, 474, 465, 440, 415, 402, 392, 387, 375, 370, 360, 342,\n",
       "       335, 330, 328, 326, 325, 325, 325, 321, 318, 310, 304, 300, 293,\n",
       "       293, 291, 285, 285, 284, 280, 278, 277, 275, 274, 272, 271, 270,\n",
       "       265, 265, 258, 255, 250, 249, 245, 240, 240, 237, 235, 231, 231,\n",
       "       230, 230, 228, 225, 225, 220, 220, 215, 215, 215, 210, 210, 210,\n",
       "       210, 210, 207, 207, 205, 205, 204, 200, 200, 200, 200, 196, 194,\n",
       "       194, 194, 193, 192, 192, 191, 190, 190, 190, 190, 188, 185, 185,\n",
       "       184, 183, 182, 182, 182, 180, 180, 180, 180, 180, 180, 180, 178,\n",
       "       176, 176, 176, 175, 175, 175, 171, 170, 170, 168, 168, 168, 168,\n",
       "       167, 167, 166, 165, 165, 165, 165, 160, 160, 160, 160, 159, 158,\n",
       "       158, 156, 156, 156, 155, 155, 155, 155, 152, 152, 150, 150, 148,\n",
       "       148, 146, 145, 145, 145, 144, 144, 142, 140, 140, 140, 140, 140,\n",
       "       140, 140, 140, 140, 135, 135, 135, 135, 135, 135, 132, 132, 130,\n",
       "       130, 130, 130, 130, 130, 130, 130, 130, 129, 128, 127, 126, 126,\n",
       "       126, 125, 125, 125, 125, 122, 122, 120, 120, 120, 120, 120, 120,\n",
       "       120, 120, 119, 116, 116, 115, 115, 115, 115, 115, 115, 114, 114,\n",
       "       112, 110, 110, 110, 110, 110, 110, 108, 106, 106, 106, 105, 105,\n",
       "       105, 105, 105, 105, 105, 105, 105, 105, 105, 100, 100, 100, 100,\n",
       "       100, 100, 100,  99,  99,  96,  96,  95,  95,  94,  94,  94,  94,\n",
       "        94,  94,  94,  92,  92,  92,  91,  90,  90,  90,  90,  89,  88,\n",
       "        88,  88,  88,  87,  87,  86,  85,  85,  84,  83,  83,  83,  82,\n",
       "        82,  82,  81,  79,  79,  78,  78,  77,  77,  76,  76,  76,  76,\n",
       "        76,  75,  75,  75,  74,  74,  74,  73,  72,  71,  71,  71,  71,\n",
       "        70,  70,  70,  68,  67,  67,  66,  66,  66,  66,  66,  65,  64,\n",
       "        64,  64,  64,  63,  63,  63,  61,  60,  60,  59,  58,  58,  57,\n",
       "        57,  56,  56,  56,  56,  56,  55,  55,  54,  54,  54,  54,  53,\n",
       "        53,  52,  51,  50,  50,  50,  49,  49,  49,  49,  49,  48,  48,\n",
       "        48,  46,  45,  45,  45,  44,  44,  44,  43,  42,  41,  40,  40,\n",
       "        38,  37,  37,  36,  36,  36,  32,  29,  25,  23,  23,  22,  18,\n",
       "        18,  16,  15,  14,   0,   0,   0,   0,   0,   0,   0,   0,   0,\n",
       "         0,   0,   0,   0,   0,   0,   0,   0,   0,   0,   0,   0,   0,\n",
       "         0,   0,   0,   0,   0,   0,   0,   0,   0,   0,   0,   0,   0,\n",
       "         0,   0,   0,   0,   0,   0,   0,   0,   0,   0,   0,   0,   0,\n",
       "         0,   0,   0,   0,   0,   0,   0,   0,   0,   0,   0,   0,   0,\n",
       "         0,   0,   0,   0,   0,   0,   0,   0,   0,   0,   0,   0,   0,\n",
       "         0,   0,   0,   0,   0,   0,   0,   0,   0,   0,   0,   0,   0,\n",
       "         0,   0,   0,   0,   0,   0,   0,   0,   0,   0,   0,   0,   0,\n",
       "         0,   0,   0,   0,   0,   0,   0,   0,   0,   0,   0,   0,   0,\n",
       "         0,   0,   0,   0,   0,   0,   0,   0,   0,   0,   0,   0,   0,\n",
       "         0,   0,   0,   0,   0,   0,   0,   0,   0,   0,   0,   0,   0,\n",
       "         0,   0,   0,   0,   0,   0,   0,   0,   0,   0,   0,   0,   0,\n",
       "         0,   0,   0,   0,   0,   0,   0,   0,   0,   0,   0,   0,   0,\n",
       "         0,   0,   0,   0,   0,   0,   0,   0,   0,   0,   0,   0,   0,\n",
       "         0,   0,   0,   0,   0,   0,   0,   0,   0,   0,   0,   0,   0,\n",
       "         0,   0,   0,   0,   0,   0,   0,   0,   0,   0,   0,   0,   0,\n",
       "         0,   0,   0,   0,   0,   0,   0,   0,   0,   0,   0,   0,   0,\n",
       "         0,   0,   0,   0,   0,   0,   0,   0,   0,   0,   0,   0,   0,\n",
       "         0,   0,   0,   0,   0,   0,   0,   0,   0,   0,   0,   0,   0,\n",
       "         0,   0,   0,   0,   0,   0,   0,   0,   0,   0,   0,   0,   0,\n",
       "         0,   0,   0,   0,   0,   0,   0,   0,   0,   0,   0,   0,   0,\n",
       "         0,   0,   0,   0,   0,   0,   0,   0,   0,   0,   0,   0,   0,\n",
       "         0,   0,   0,   0,   0,   0,   0,   0,   0,   0,   0,   0,   0,\n",
       "         0,   0,   0,   0,   0,   0,   0,   0,   0,   0,   0,   0,   0,\n",
       "         0,   0,   0,   0,   0,   0,   0,   0,   0,   0,   0,   0,   0,\n",
       "         0,   0,   0,   0,   0,   0,   0,   0,   0,   0,   0,   0,   0,\n",
       "         0,   0,   0,   0,   0,   0,   0,   0,   0,   0,   0,   0,   0,\n",
       "         0,   0,   0,   0,   0,   0,   0,   0,   0,   0,   0,   0,   0,\n",
       "         0,   0,   0,   0,   0,   0,   0,   0,   0,   0,   0,   0,   0,\n",
       "         0], dtype=int64)"
      ]
     },
     "execution_count": 18,
     "metadata": {},
     "output_type": "execute_result"
    }
   ],
   "source": [
    "np.array(pima_df['test'].sort_values(ascending=False))"
   ]
  },
  {
   "cell_type": "code",
   "execution_count": 19,
   "metadata": {},
   "outputs": [],
   "source": [
    "X_train, X_test, y_train, y_test = train_test_split(X, y, test_size=0.2, random_state=1)"
   ]
  },
  {
   "cell_type": "code",
   "execution_count": 20,
   "metadata": {},
   "outputs": [],
   "source": [
    "nbModel_GNB = GaussianNB()\n",
    "nbModel_BNB = BernoulliNB()\n",
    "nbModel_MNB = MultinomialNB()"
   ]
  },
  {
   "cell_type": "code",
   "execution_count": 21,
   "metadata": {},
   "outputs": [
    {
     "data": {
      "text/plain": [
       "MultinomialNB()"
      ]
     },
     "execution_count": 21,
     "metadata": {},
     "output_type": "execute_result"
    }
   ],
   "source": [
    "nbModel_GNB.fit(X_train, y_train)\n",
    "nbModel_BNB.fit(X_train, y_train)\n",
    "nbModel_MNB.fit(X_train, y_train)"
   ]
  },
  {
   "cell_type": "code",
   "execution_count": 22,
   "metadata": {},
   "outputs": [],
   "source": [
    "y_pred_GNB = nbModel_GNB.predict(X_test)\n",
    "y_pred_BNB = nbModel_BNB.predict(X_test)\n",
    "y_pred_MNB = nbModel_MNB.predict(X_test)"
   ]
  },
  {
   "cell_type": "code",
   "execution_count": 24,
   "metadata": {},
   "outputs": [],
   "source": [
    "from sklearn.metrics import accuracy_score, classification_report, confusion_matrix"
   ]
  },
  {
   "cell_type": "code",
   "execution_count": 35,
   "metadata": {},
   "outputs": [
    {
     "name": "stdout",
     "output_type": "stream",
     "text": [
      "GNB Score:  0.7727272727272727\n",
      "BNB Score:  0.6168831168831169\n",
      "MNB Score:  0.512987012987013\n"
     ]
    }
   ],
   "source": [
    "print('GNB Score: ',accuracy_score(y_test, y_pred_GNB))\n",
    "print('BNB Score: ',accuracy_score(y_test, y_pred_BNB))\n",
    "print('MNB Score: ',accuracy_score(y_test, y_pred_MNB))"
   ]
  },
  {
   "cell_type": "code",
   "execution_count": 36,
   "metadata": {
    "scrolled": true
   },
   "outputs": [
    {
     "name": "stdout",
     "output_type": "stream",
     "text": [
      "GNB Conf Matrix: \n",
      " [[85 14]\n",
      " [21 34]]\n",
      "BNB Conf Matrix: \n",
      " [[94  5]\n",
      " [54  1]]\n",
      "MNB Conf Matrix: \n",
      " [[59 40]\n",
      " [35 20]]\n"
     ]
    }
   ],
   "source": [
    "print('GNB Conf Matrix: \\n',confusion_matrix(y_test, y_pred_GNB))\n",
    "print('BNB Conf Matrix: \\n',confusion_matrix(y_test, y_pred_BNB))\n",
    "print('MNB Conf Matrix: \\n',confusion_matrix(y_test, y_pred_MNB))"
   ]
  },
  {
   "cell_type": "code",
   "execution_count": 45,
   "metadata": {},
   "outputs": [
    {
     "name": "stdout",
     "output_type": "stream",
     "text": [
      "GNB Conf Matrix: \n",
      " Predicted    0   1  All\n",
      "Actual                 \n",
      "0           85  14   99\n",
      "1           21  34   55\n",
      "All        106  48  154\n",
      "\n",
      "\n",
      "BNB Conf Matrix: \n",
      " Predicted    0  1  All\n",
      "Actual                \n",
      "0           94  5   99\n",
      "1           54  1   55\n",
      "All        148  6  154\n",
      "\n",
      "\n",
      "MNB Conf Matrix: \n",
      " Predicted   0   1  All\n",
      "Actual                \n",
      "0          59  40   99\n",
      "1          35  20   55\n",
      "All        94  60  154\n"
     ]
    }
   ],
   "source": [
    "print('GNB Conf Matrix: \\n',pd.crosstab(y_test, y_pred_GNB, rownames=['Actual'], colnames=['Predicted'], margins=True))\n",
    "print('\\n')\n",
    "print('BNB Conf Matrix: \\n',pd.crosstab(y_test, y_pred_BNB, rownames=['Actual'], colnames=['Predicted'], margins=True))\n",
    "print('\\n')\n",
    "print('MNB Conf Matrix: \\n',pd.crosstab(y_test, y_pred_MNB, rownames=['Actual'], colnames=['Predicted'], margins=True))"
   ]
  },
  {
   "cell_type": "code",
   "execution_count": 37,
   "metadata": {},
   "outputs": [
    {
     "data": {
      "text/plain": [
       "55"
      ]
     },
     "execution_count": 37,
     "metadata": {},
     "output_type": "execute_result"
    }
   ],
   "source": [
    "sum(y_test)"
   ]
  },
  {
   "cell_type": "code",
   "execution_count": 38,
   "metadata": {
    "scrolled": true
   },
   "outputs": [
    {
     "name": "stdout",
     "output_type": "stream",
     "text": [
      "GNB Classifiction Report: \n",
      "               precision    recall  f1-score   support\n",
      "\n",
      "           0       0.80      0.86      0.83        99\n",
      "           1       0.71      0.62      0.66        55\n",
      "\n",
      "    accuracy                           0.77       154\n",
      "   macro avg       0.76      0.74      0.74       154\n",
      "weighted avg       0.77      0.77      0.77       154\n",
      "\n",
      "BNB Classifiction Report: \n",
      "               precision    recall  f1-score   support\n",
      "\n",
      "           0       0.64      0.95      0.76        99\n",
      "           1       0.17      0.02      0.03        55\n",
      "\n",
      "    accuracy                           0.62       154\n",
      "   macro avg       0.40      0.48      0.40       154\n",
      "weighted avg       0.47      0.62      0.50       154\n",
      "\n",
      "MNB Classifiction Report: \n",
      "               precision    recall  f1-score   support\n",
      "\n",
      "           0       0.63      0.60      0.61        99\n",
      "           1       0.33      0.36      0.35        55\n",
      "\n",
      "    accuracy                           0.51       154\n",
      "   macro avg       0.48      0.48      0.48       154\n",
      "weighted avg       0.52      0.51      0.52       154\n",
      "\n"
     ]
    }
   ],
   "source": [
    "print('GNB Classifiction Report: \\n',classification_report(y_test, y_pred_GNB))\n",
    "print('BNB Classifiction Report: \\n',classification_report(y_test, y_pred_BNB))\n",
    "print('MNB Classifiction Report: \\n',classification_report(y_test, y_pred_MNB))"
   ]
  },
  {
   "cell_type": "code",
   "execution_count": 49,
   "metadata": {},
   "outputs": [
    {
     "data": {
      "image/png": "[encoded data removed]",
      "text/plain": [
       "<Figure size 432x288 with 1 Axes>"
      ]
     },
     "metadata": {
      "needs_background": "light"
     },
     "output_type": "display_data"
    }
   ],
   "source": [
    "from sklearn.metrics import roc_auc_score\n",
    "from sklearn.metrics import roc_curve\n",
    "GNB_roc_auc = roc_auc_score(y_test, y_pred_GNB)\n",
    "fpr, tpr, thresholds = roc_curve(y_test, nbModel_GNB.predict_proba(X_test)[:,1])\n",
    "plt.figure()\n",
    "plt.plot(fpr, tpr, label = 'GNB (area = %0.2f)' % GNB_roc_auc)\n",
    "plt.plot([0, 1], [0, 1],'r--')\n",
    "plt.xlim([0.0, 1.0])\n",
    "plt.ylim([0.0, 1.05])\n",
    "plt.xlabel('False Positive Rate')\n",
    "plt.ylabel('True Positive Rate')\n",
    "plt.title('Receiver operating characteristic')\n",
    "plt.legend(loc=\"lower right\")\n",
    "plt.savefig('GNB_ROC')\n",
    "plt.show()"
   ]
  },
  {
   "cell_type": "code",
   "execution_count": 50,
   "metadata": {},
   "outputs": [
    {
     "data": {
      "image/png": "[encoded data removed]",
      "text/plain": [
       "<Figure size 432x288 with 1 Axes>"
      ]
     },
     "metadata": {
      "needs_background": "light"
     },
     "output_type": "display_data"
    }
   ],
   "source": [
    "from sklearn.metrics import roc_auc_score\n",
    "from sklearn.metrics import roc_curve\n",
    "BNB_roc_auc = roc_auc_score(y_test, y_pred_BNB)\n",
    "fpr, tpr, thresholds = roc_curve(y_test, nbModel_BNB.predict_proba(X_test)[:,1])\n",
    "plt.figure()\n",
    "plt.plot(fpr, tpr, label = 'BNB (area = %0.2f)' % BNB_roc_auc)\n",
    "plt.plot([0, 1], [0, 1],'r--')\n",
    "plt.xlim([0.0, 1.0])\n",
    "plt.ylim([0.0, 1.05])\n",
    "plt.xlabel('False Positive Rate')\n",
    "plt.ylabel('True Positive Rate')\n",
    "plt.title('Receiver operating characteristic')\n",
    "plt.legend(loc=\"lower right\")\n",
    "plt.savefig('BNB_ROC')\n",
    "plt.show()"
   ]
  },
  {
   "cell_type": "code",
   "execution_count": 51,
   "metadata": {},
   "outputs": [
    {
     "data": {
      "image/png": "[encoded data removed]",
      "text/plain": [
       "<Figure size 432x288 with 1 Axes>"
      ]
     },
     "metadata": {
      "needs_background": "light"
     },
     "output_type": "display_data"
    }
   ],
   "source": [
    "from sklearn.metrics import roc_auc_score\n",
    "from sklearn.metrics import roc_curve\n",
    "MNB_roc_auc = roc_auc_score(y_test, y_pred_BNB)\n",
    "fpr, tpr, thresholds = roc_curve(y_test, nbModel_MNB.predict_proba(X_test)[:,1])\n",
    "plt.figure()\n",
    "plt.plot(fpr, tpr, label = 'MNB (area = %0.2f)' % MNB_roc_auc)\n",
    "plt.plot([0, 1], [0, 1],'r--')\n",
    "plt.xlim([0.0, 1.0])\n",
    "plt.ylim([0.0, 1.05])\n",
    "plt.xlabel('False Positive Rate')\n",
    "plt.ylabel('True Positive Rate')\n",
    "plt.title('Receiver operating characteristic')\n",
    "plt.legend(loc=\"lower right\")\n",
    "plt.savefig('MNB_ROC')\n",
    "plt.show()"
   ]
  },
  {
   "cell_type": "code",
   "execution_count": null,
   "metadata": {},
   "outputs": [],
   "source": []
  }
 ],
 "metadata": {
  "kernelspec": {
   "display_name": "Python 3",
   "language": "python",
   "name": "python3"
  },
  "language_info": {
   "codemirror_mode": {
    "name": "ipython",
    "version": 3
   },
   "file_extension": ".py",
   "mimetype": "text/x-python",
   "name": "python",
   "nbconvert_exporter": "python",
   "pygments_lexer": "ipython3",
   "version": "3.8.5"
  }
 },
 "nbformat": 4,
 "nbformat_minor": 4
}
