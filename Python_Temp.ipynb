{
 "cells": [
  {
   "cell_type": "markdown",
   "metadata": {},
   "source": [
    "### Import Libraries"
   ]
  },
  {
   "cell_type": "code",
   "execution_count": null,
   "metadata": {},
   "outputs": [],
   "source": [
    "import pandas as pd # load and manipulate data\n",
    "import numpy as np # usually helps with mathematical operations on data\n",
    "from sklearn.model_selection import train_test_split # split your dataset into train and test set\n",
    "from sklearn.metrics import balanced_accuracy_score, roc_auc_score, make_scorer # check accuracy score of your classification model\n",
    "from sklearn.model_selection import GridSearchCV # cross validation\n",
    "from sklearn.metrics import confusion_matrix # creates a confusion matrix\n",
    "from sklearn.metrics import plot_confusion_matrix # confusion matrix as a heatmap\n",
    "from sklearn.metrics import classification_report # report of your classification model's accuracy\n",
    "from scipy.stats import chi2_contingency # chi-sq test to check relation between two cat columns. p value >0.05 means no relation\n",
    "from xgboost import XGBClassifier # import the XGBoost Classifier method"
   ]
  },
  {
   "cell_type": "markdown",
   "metadata": {},
   "source": [
    "### print settings"
   ]
  },
  {
   "cell_type": "code",
   "execution_count": null,
   "metadata": {},
   "outputs": [],
   "source": [
    "# set the max number of rows or columns to print for a dataframe\n",
    "pd.set_option(\"max_rows\", None)\n",
    "pd.set_option(\"max_columns\", None)"
   ]
  },
  {
   "cell_type": "markdown",
   "metadata": {},
   "source": [
    "### import dataset"
   ]
  },
  {
   "cell_type": "code",
   "execution_count": null,
   "metadata": {},
   "outputs": [],
   "source": [
    "data = pd.read_csv(\"<file location>\")\n",
    "data.head()"
   ]
  },
  {
   "cell_type": "markdown",
   "metadata": {},
   "source": [
    "### Pandas manupulation"
   ]
  },
  {
   "cell_type": "markdown",
   "metadata": {},
   "source": [
    "#### Drop columns"
   ]
  },
  {
   "cell_type": "code",
   "execution_count": null,
   "metadata": {},
   "outputs": [],
   "source": [
    "# drop columns with same values in all rows\n",
    "data.drop(columns=data.columns[data.nunique() == 1], inplace=True)\n",
    "# drop columns with the mentioned column names\n",
    "data.drop(columns=['<col1>','<col2>','<col3>'], inplace=True)"
   ]
  },
  {
   "cell_type": "code",
   "execution_count": null,
   "metadata": {},
   "outputs": [],
   "source": [
    "# unique values in all columns\n",
    "data.apply(lambda col: col.unique(), axis=0)"
   ]
  },
  {
   "cell_type": "markdown",
   "metadata": {},
   "source": [
    "#### Change column datatype"
   ]
  },
  {
   "cell_type": "code",
   "execution_count": null,
   "metadata": {},
   "outputs": [],
   "source": [
    "# change datatype of a column to object\n",
    "data[['<col1>','<col2>','<col3>']] = data[['<col1>','<col2>','<col3>']].astype('object')\n",
    "# change datatype of a column to number. errors = 'coerce' replaces string or error values with nan\n",
    "data['<col1>'] = pd.to_numeric(data['<col1>'], errors='coerce')"
   ]
  },
  {
   "cell_type": "markdown",
   "metadata": {},
   "source": [
    "#### list of specific columns"
   ]
  },
  {
   "cell_type": "code",
   "execution_count": null,
   "metadata": {},
   "outputs": [],
   "source": [
    "# get list of categorical and numeric columns from your dataframe\n",
    "catCols = X.iloc[:,1:].select_dtypes(include='object').columns\n",
    "numCols = X.select_dtypes(include='number').columns"
   ]
  },
  {
   "cell_type": "markdown",
   "metadata": {},
   "source": [
    "### Check correlation and significance"
   ]
  },
  {
   "cell_type": "markdown",
   "metadata": {},
   "source": [
    "#### Correlation between categorical columns"
   ]
  },
  {
   "cell_type": "code",
   "execution_count": null,
   "metadata": {},
   "outputs": [],
   "source": [
    "CrosstabResult = pd.crosstab(index=data['<CatCol1>'] ,columns=data['<CatCol2>'])\n",
    "ChiSqResult = chi2_contingency(CrosstabResult)\n",
    "print('The P-Value of the ChiSq Test is:', ChiSqResult[1])\n",
    "# P value of <0.05 indicates that we can reject null hypothesis that the two variables are correlated"
   ]
  },
  {
   "cell_type": "markdown",
   "metadata": {},
   "source": [
    "### Label Encoding"
   ]
  },
  {
   "cell_type": "code",
   "execution_count": null,
   "metadata": {},
   "outputs": [],
   "source": [
    "# label encoding using replace method\n",
    "data['<CatCol1>'] = data['<CatCol1>'].replace({'<Val1>':1, '<Val2>':0})"
   ]
  },
  {
   "cell_type": "markdown",
   "metadata": {},
   "source": [
    "### One hot encoding"
   ]
  },
  {
   "cell_type": "code",
   "execution_count": null,
   "metadata": {},
   "outputs": [],
   "source": [
    "# one hot encoding for categorical columns\n",
    "for col in catCols:\n",
    "    dummy_cols = pd.get_dummies(data[col], prefix=col)\n",
    "    data = data.join(dummy_cols)\n",
    "    data = data.drop(columns = col)"
   ]
  }
 ],
 "metadata": {
  "kernelspec": {
   "display_name": "Python 3",
   "language": "python",
   "name": "python3"
  },
  "language_info": {
   "codemirror_mode": {
    "name": "ipython",
    "version": 3
   },
   "file_extension": ".py",
   "mimetype": "text/x-python",
   "name": "python",
   "nbconvert_exporter": "python",
   "pygments_lexer": "ipython3",
   "version": "3.8.5"
  }
 },
 "nbformat": 4,
 "nbformat_minor": 4
}
